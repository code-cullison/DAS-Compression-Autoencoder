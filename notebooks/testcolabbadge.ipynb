{
  "nbformat": 4,
  "nbformat_minor": 0,
  "metadata": {
    "colab": {
      "provenance": []
    },
    "kernelspec": {
      "name": "python3",
      "display_name": "Python 3"
    },
    "language_info": {
      "name": "python"
    }
  },
  "cells": [
    {
      "cell_type": "markdown",
      "source": [
        "<a target=\"_blank\" href=\"https://colab.research.google.com/github/code-cullison/DAS-Compression-Autoencoder/blob/main/notebooks/testcolabbadge.ipynb\">\n",
        "  <img src=\"https://colab.research.google.com/assets/colab-badge.svg\" alt=\"Open In Colab\"/>\n",
        "</a>\n"
      ],
      "metadata": {
        "id": "Zp5UwEYSCXv-"
      }
    },
    {
      "cell_type": "code",
      "source": [],
      "metadata": {
        "id": "j8rZNF0QCWc2"
      },
      "execution_count": null,
      "outputs": []
    }
  ]
}